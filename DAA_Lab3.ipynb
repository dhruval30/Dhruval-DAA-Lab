{
 "cells": [
  {
   "cell_type": "markdown",
   "id": "10ccd6be",
   "metadata": {},
   "source": [
    "# Removing Duplicate Values"
   ]
  },
  {
   "cell_type": "code",
   "execution_count": 2,
   "id": "4efa72cc",
   "metadata": {},
   "outputs": [
    {
     "name": "stdout",
     "output_type": "stream",
     "text": [
      "[1, 2, 3, 4, 5]\n"
     ]
    }
   ],
   "source": [
    "def remove_duplicates(arr):\n",
    "    unique = []\n",
    "    for ele in arr:\n",
    "        if ele not in unique:\n",
    "            unique.append(ele)\n",
    "    return unique\n",
    "\n",
    "original = [1, 2, 2, 3, 4, 4, 5]\n",
    "unique = remove_duplicates(original)\n",
    "print(unique)\n"
   ]
  },
  {
   "cell_type": "markdown",
   "id": "f58ed1e7",
   "metadata": {},
   "source": [
    "# To find whether the linked list has a loop or NOT"
   ]
  },
  {
   "cell_type": "code",
   "execution_count": 3,
   "id": "f85265ac",
   "metadata": {},
   "outputs": [
    {
     "name": "stdout",
     "output_type": "stream",
     "text": [
      "True\n"
     ]
    }
   ],
   "source": [
    "class ListNode:\n",
    "    def __init__(self, value):\n",
    "        self.value = value\n",
    "        self.next = None\n",
    "\n",
    "def has_cycle(head):\n",
    "    visited = set()\n",
    "    current = head\n",
    "\n",
    "    while current:\n",
    "        if current in visited:\n",
    "            return True\n",
    "        visited.add(current)\n",
    "        current = current.next\n",
    "\n",
    "    return False\n",
    "\n",
    "node1 = ListNode(1)\n",
    "node2 = ListNode(2)\n",
    "node3 = ListNode(3)\n",
    "node4 = ListNode(4)\n",
    "\n",
    "node1.next = node2\n",
    "node2.next = node3\n",
    "node3.next = node4\n",
    "node4.next = node2 \n",
    "\n",
    "has_loop = has_cycle(node1)\n",
    "print(has_loop)  "
   ]
  },
  {
   "cell_type": "markdown",
   "id": "ade8a105",
   "metadata": {},
   "source": [
    "# Maximum Sum : Subarray Sum"
   ]
  },
  {
   "cell_type": "code",
   "execution_count": 6,
   "id": "64cdc06d",
   "metadata": {},
   "outputs": [
    {
     "name": "stdout",
     "output_type": "stream",
     "text": [
      "10\n"
     ]
    }
   ],
   "source": [
    "def max_sum(arr):\n",
    "    max_sum = current_sum = arr[0]\n",
    "    \n",
    "    for num in arr[1:]:\n",
    "        current_sum = max(num, current_sum + num)\n",
    "        max_sum = max(max_sum, current_sum)\n",
    "    \n",
    "    return max_sum\n",
    "\n",
    "arr = [1, -2, 3, 0, 7, -6, 2]\n",
    "max_sum = max_sum(arr)\n",
    "print(max_sum)\n"
   ]
  }
 ],
 "metadata": {
  "kernelspec": {
   "display_name": "Python 3 (ipykernel)",
   "language": "python",
   "name": "python3"
  },
  "language_info": {
   "codemirror_mode": {
    "name": "ipython",
    "version": 3
   },
   "file_extension": ".py",
   "mimetype": "text/x-python",
   "name": "python",
   "nbconvert_exporter": "python",
   "pygments_lexer": "ipython3",
   "version": "3.10.9"
  }
 },
 "nbformat": 4,
 "nbformat_minor": 5
}
