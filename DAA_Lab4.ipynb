{
 "cells": [
  {
   "cell_type": "markdown",
   "id": "97aa6d1c",
   "metadata": {},
   "source": [
    "# Diagonal Interchange \n",
    "The task is to interchange the values of the left and right diagonals in a square matrix,\n",
    "achieved by swapping the corner elements of the matrix."
   ]
  },
  {
   "cell_type": "code",
   "execution_count": 1,
   "id": "b318b90f",
   "metadata": {},
   "outputs": [
    {
     "name": "stdout",
     "output_type": "stream",
     "text": [
      "[3, 2, 1]\n",
      "[4, 5, 6]\n",
      "[9, 8, 7]\n"
     ]
    }
   ],
   "source": [
    "def diagonalInterchange(matrix):\n",
    "    n = len(matrix)\n",
    "    \n",
    "    for i in range(n):\n",
    "        matrix[i][i], matrix[i][n - i - 1] = matrix[i][n - i - 1], matrix[i][i]\n",
    "\n",
    "matrix = [\n",
    "    [1, 2, 3],\n",
    "    [4, 5, 6],\n",
    "    [7, 8, 9]\n",
    "]\n",
    "\n",
    "diagonalInterchange(matrix)\n",
    "\n",
    "for row in matrix:\n",
    "    print(row)\n"
   ]
  },
  {
   "cell_type": "markdown",
   "id": "edb35224",
   "metadata": {},
   "source": [
    "# Index Finder\n",
    "Given an array, the task is to display the indices of a specified number in the array. This\n",
    "involves finding the occurrences of the number and returning their respective indices."
   ]
  },
  {
   "cell_type": "code",
   "execution_count": 4,
   "id": "961552b1",
   "metadata": {},
   "outputs": [
    {
     "name": "stdout",
     "output_type": "stream",
     "text": [
      "Indices of 6 in the array: [5]\n"
     ]
    }
   ],
   "source": [
    "def findIndices(arr, number):\n",
    "    return [i for i, x in enumerate(arr) if x == number]\n",
    "\n",
    "arr = [1, 2, 3, 4, 2, 6, 2]\n",
    "number = 6\n",
    "\n",
    "indices = findIndices(arr, number)\n",
    "if indices:\n",
    "    print(f\"Indices of {number} in the array: {indices}\")\n",
    "else:\n",
    "    print(f\"{number} not found in the array.\")\n"
   ]
  }
 ],
 "metadata": {
  "kernelspec": {
   "display_name": "Python 3 (ipykernel)",
   "language": "python",
   "name": "python3"
  },
  "language_info": {
   "codemirror_mode": {
    "name": "ipython",
    "version": 3
   },
   "file_extension": ".py",
   "mimetype": "text/x-python",
   "name": "python",
   "nbconvert_exporter": "python",
   "pygments_lexer": "ipython3",
   "version": "3.10.9"
  }
 },
 "nbformat": 4,
 "nbformat_minor": 5
}
