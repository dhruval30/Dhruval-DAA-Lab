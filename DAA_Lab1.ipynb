{
 "cells": [
  {
   "cell_type": "markdown",
   "id": "a97346bc",
   "metadata": {},
   "source": [
    "Leader Array\n",
    "A leader in an array is an element greater than or equal to all elements to its right. It is\n",
    "identified by scanning the array from right to left, updating a maximum variable as leaders\n",
    "are found."
   ]
  },
  {
   "cell_type": "code",
   "execution_count": 1,
   "id": "fb03a0e2",
   "metadata": {},
   "outputs": [
    {
     "name": "stdout",
     "output_type": "stream",
     "text": [
      "17 5 2 "
     ]
    }
   ],
   "source": [
    "def Leaders(arr,length): \n",
    "     \n",
    "    for i in range(0, length): \n",
    "        for j in range(i+1, length): \n",
    "            if arr[i]<=arr[j]: \n",
    "                break\n",
    "        if j == length-1: \n",
    "            print (arr[i],end=' ') \n",
    "            \n",
    "arr=[16, 17, 4, 3, 5, 2] \n",
    "Leaders(arr, len(arr))"
   ]
  },
  {
   "cell_type": "markdown",
   "id": "d2d12875",
   "metadata": {},
   "source": [
    "Sorting Array\n",
    "\n",
    "Given an array, the task is to sort it and create an output sequence that alternates between\n",
    "the smallest and largest numbers. For example, for the array [3, 1, 4, 1, 5, 9, 2, 6, 5, 3, 5],\n",
    "the output would be [1, 9, 1, 6, 2, 5, 3, 5, 4, 5, 3]."
   ]
  },
  {
   "cell_type": "code",
   "execution_count": 12,
   "id": "56820846",
   "metadata": {},
   "outputs": [
    {
     "name": "stdout",
     "output_type": "stream",
     "text": [
      "[1, 9, 1, 6, 2, 5, 3, 5, 3, 5, 4]\n"
     ]
    }
   ],
   "source": [
    "def alternate(arr):\n",
    "    arr.sort()\n",
    "    n = len(arr)\n",
    "    left, right = 0, n - 1\n",
    "    result = []\n",
    "\n",
    "    while left <= right:\n",
    "        if left < right:\n",
    "            result.extend([arr[left], arr[right]])\n",
    "        else:\n",
    "            result.append(arr[left])\n",
    "        left += 1\n",
    "        right -= 1\n",
    "\n",
    "    return result\n",
    "\n",
    "arr = [3, 1, 4, 1, 5, 9, 2, 6, 5, 3, 5]\n",
    "result = alternate(arr)\n",
    "print(result)\n"
   ]
  }
 ],
 "metadata": {
  "kernelspec": {
   "display_name": "Python 3 (ipykernel)",
   "language": "python",
   "name": "python3"
  },
  "language_info": {
   "codemirror_mode": {
    "name": "ipython",
    "version": 3
   },
   "file_extension": ".py",
   "mimetype": "text/x-python",
   "name": "python",
   "nbconvert_exporter": "python",
   "pygments_lexer": "ipython3",
   "version": "3.10.9"
  }
 },
 "nbformat": 4,
 "nbformat_minor": 5
}
