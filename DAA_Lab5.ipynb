{
 "cells": [
  {
   "cell_type": "markdown",
   "id": "c397fa02",
   "metadata": {},
   "source": [
    "# ROWS With Most No of One's"
   ]
  },
  {
   "cell_type": "code",
   "execution_count": 6,
   "id": "946e808c",
   "metadata": {},
   "outputs": [
    {
     "name": "stdout",
     "output_type": "stream",
     "text": [
      "Row with the most ones is 3.\n"
     ]
    }
   ],
   "source": [
    "def MaxOnes(matrix):\n",
    "    max_row = max(matrix, key=lambda row: row.count(1))\n",
    "    return matrix.index(max_row) if 1 in max_row else -1\n",
    "\n",
    "matrix = [\n",
    "    [0, 1, 0, 1],\n",
    "    [0, 0, 1, 1],\n",
    "    [1, 1, 1, 0],\n",
    "    [0, 0, 0, 1]\n",
    "]\n",
    "\n",
    "result = MaxOnes(matrix)\n",
    "if result != -1:\n",
    "    print(f\"Row with the most ones is {result+1}.\")\n",
    "else:\n",
    "    print(\"No row with ones found.\")\n"
   ]
  },
  {
   "cell_type": "markdown",
   "id": "4848f46f",
   "metadata": {},
   "source": [
    "# Middle Row and Column Sum\n",
    "The task is to calculate the sum of the middle row and middle column in a matrix, involving\n",
    "finding the central elements and adding up their respective rows and columns. This problem\n",
    "is relevant in array manipulation and matrix operations."
   ]
  },
  {
   "cell_type": "code",
   "execution_count": 9,
   "id": "d88928de",
   "metadata": {},
   "outputs": [
    {
     "name": "stdout",
     "output_type": "stream",
     "text": [
      "Sum of the middle row: 15\n",
      "Sum of the middle column: 15\n"
     ]
    }
   ],
   "source": [
    "def calc(matrix):\n",
    "    n = len(matrix) \n",
    "    \n",
    "    middle = n // 2\n",
    "    row_sum = sum(matrix[middle])\n",
    "    col_sum = sum(matrix[i][middle] for i in range(n))\n",
    "    \n",
    "    return row_sum, col_sum\n",
    "\n",
    "matrix = [\n",
    "    [1, 2, 3],\n",
    "    [4, 5, 6],\n",
    "    [7, 8, 9]\n",
    "]\n",
    "\n",
    "result = calc(matrix)\n",
    "if result is not None:\n",
    "    row_sum, col_sum = result\n",
    "    print(f\"Sum of the middle row: {row_sum}\")\n",
    "    print(f\"Sum of the middle column: {col_sum}\")"
   ]
  }
 ],
 "metadata": {
  "kernelspec": {
   "display_name": "Python 3 (ipykernel)",
   "language": "python",
   "name": "python3"
  },
  "language_info": {
   "codemirror_mode": {
    "name": "ipython",
    "version": 3
   },
   "file_extension": ".py",
   "mimetype": "text/x-python",
   "name": "python",
   "nbconvert_exporter": "python",
   "pygments_lexer": "ipython3",
   "version": "3.10.9"
  }
 },
 "nbformat": 4,
 "nbformat_minor": 5
}
