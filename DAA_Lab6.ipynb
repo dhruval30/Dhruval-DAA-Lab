{
 "cells": [
  {
   "cell_type": "markdown",
   "id": "4518a478",
   "metadata": {},
   "source": [
    "# Matrix Sorting and Diagonal Replacement\n",
    "The task is to sort a matrix without using any Python built-in libraries and subsequently\n",
    "replace both left and right diagonals with zeros. This problem involves custom sorting\n",
    "algorithms and matrix manipulation."
   ]
  },
  {
   "cell_type": "code",
   "execution_count": 10,
   "id": "16fccc3a",
   "metadata": {},
   "outputs": [
    {
     "name": "stdout",
     "output_type": "stream",
     "text": [
      "Original: \n",
      "3 1 4\n",
      "7 5 9\n",
      "2 6 8\n",
      "\n",
      "Sorted and Diagonals Replaced: \n",
      "0 2 0\n",
      "4 0 6\n",
      "0 8 0\n"
     ]
    }
   ],
   "source": [
    "def sortAndReplace(matrix):\n",
    "    n = len(matrix)\n",
    "    elements = []\n",
    "\n",
    "    for row in matrix:\n",
    "        elements.extend(row)\n",
    "\n",
    "    elements.sort()\n",
    "\n",
    "    for i in range(n):\n",
    "        for j in range(n):\n",
    "            matrix[i][j] = elements.pop(0)\n",
    "\n",
    "    for i in range(n):\n",
    "        matrix[i][i] = matrix[i][n - i - 1] = 0\n",
    "\n",
    "matrix = [\n",
    "    [3, 1, 4],\n",
    "    [7, 5, 9],\n",
    "    [2, 6, 8]\n",
    "]\n",
    "\n",
    "print(\"Original: \")\n",
    "for row in matrix:\n",
    "    print(*row)\n",
    "\n",
    "sortAndReplace(matrix)\n",
    "\n",
    "print(\"\\nSorted and Diagonals Replaced: \")\n",
    "for row in matrix:\n",
    "    print(*row)\n"
   ]
  },
  {
   "cell_type": "markdown",
   "id": "a18786df",
   "metadata": {},
   "source": [
    "# Integer Multiplication without Operators"
   ]
  },
  {
   "cell_type": "code",
   "execution_count": 15,
   "id": "903d2353",
   "metadata": {},
   "outputs": [
    {
     "name": "stdout",
     "output_type": "stream",
     "text": [
      "-5 * -3 = 15\n"
     ]
    }
   ],
   "source": [
    "def multiply(x, y):\n",
    "    if y < 0:\n",
    "        x = -x\n",
    "        y = -y\n",
    "    result = 0\n",
    "\n",
    "    for i in range(abs(y)):\n",
    "        result += x\n",
    "\n",
    "    return result\n",
    "\n",
    "x = -5\n",
    "y = -3\n",
    "product = multiply(x, y)\n",
    "print(f\"{x} * {y} = {product}\")\n"
   ]
  }
 ],
 "metadata": {
  "kernelspec": {
   "display_name": "Python 3 (ipykernel)",
   "language": "python",
   "name": "python3"
  },
  "language_info": {
   "codemirror_mode": {
    "name": "ipython",
    "version": 3
   },
   "file_extension": ".py",
   "mimetype": "text/x-python",
   "name": "python",
   "nbconvert_exporter": "python",
   "pygments_lexer": "ipython3",
   "version": "3.10.9"
  }
 },
 "nbformat": 4,
 "nbformat_minor": 5
}
