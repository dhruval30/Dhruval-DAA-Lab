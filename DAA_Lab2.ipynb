{
 "cells": [
  {
   "cell_type": "markdown",
   "id": "5814e5df",
   "metadata": {},
   "source": [
    "Triplet and their Sum\n",
    "\n",
    "A triplet is a set of three elements in a sequence or array. Finding triplets involves identifying\n",
    "combinations of three elements whose sum meets a specified criterion. (Sorting)"
   ]
  },
  {
   "cell_type": "code",
   "execution_count": 6,
   "id": "a1651b71",
   "metadata": {},
   "outputs": [
    {
     "name": "stdout",
     "output_type": "stream",
     "text": [
      "[3, 8, 9]\n",
      "[4, 7, 9]\n",
      "[5, 6, 9]\n",
      "[5, 7, 8]\n"
     ]
    }
   ],
   "source": [
    "def Triplets(arr, target):\n",
    "    n = len(arr)\n",
    "    triplets = []\n",
    "\n",
    "    for i in range(n - 2):\n",
    "        left, right = i + 1, n - 1\n",
    "\n",
    "        while left < right:\n",
    "            current_sum = arr[i] + arr[left] + arr[right]\n",
    "\n",
    "            if current_sum == target:\n",
    "                triplets.append([arr[i], arr[left], arr[right]])\n",
    "                left += 1\n",
    "                right -= 1\n",
    "            elif current_sum < target:\n",
    "                left += 1\n",
    "            else:\n",
    "                right -= 1\n",
    "\n",
    "    return triplets\n",
    "\n",
    "arr = [1, 2, 3, 4, 5, 6, 7, 8, 9]\n",
    "target = 20\n",
    "triplets = Triplets(arr, target)\n",
    "\n",
    "for triplet in triplets:\n",
    "    print(triplet)\n"
   ]
  },
  {
   "cell_type": "markdown",
   "id": "8874abe3",
   "metadata": {},
   "source": [
    "Sorting an Array\n",
    "\n",
    "In the given example, the array with values [0, 0, 1, 2, 0, 1, 2, 2, 1] is sorted in a way that\n",
    "groups identical elements together, resulting in the output [0, 0, 0, 1, 1, 1, 2, 2, 2]. This\n",
    "sorting method is often used for arrays containing a limited set of distinct values."
   ]
  },
  {
   "cell_type": "code",
   "execution_count": 9,
   "id": "71ba8928",
   "metadata": {},
   "outputs": [
    {
     "name": "stdout",
     "output_type": "stream",
     "text": [
      "[0, 0, 0, 1, 1, 1, 2, 2, 2]\n"
     ]
    }
   ],
   "source": [
    "def sortArray(arr):\n",
    "    max_val = max(arr)\n",
    "    count = [0] * (max_val + 1)\n",
    "    for num in arr:\n",
    "        count[num] += 1\n",
    "    sorted_arr = []\n",
    "    for i in range(max_val + 1):\n",
    "        sorted_arr.extend([i] * count[i])\n",
    "    return sorted_arr\n",
    "\n",
    "arr = [0, 0, 1, 2, 0, 1, 2, 2, 1]\n",
    "sorted_arr = sortArray(arr)\n",
    "print(sorted_arr)\n"
   ]
  }
 ],
 "metadata": {
  "kernelspec": {
   "display_name": "Python 3 (ipykernel)",
   "language": "python",
   "name": "python3"
  },
  "language_info": {
   "codemirror_mode": {
    "name": "ipython",
    "version": 3
   },
   "file_extension": ".py",
   "mimetype": "text/x-python",
   "name": "python",
   "nbconvert_exporter": "python",
   "pygments_lexer": "ipython3",
   "version": "3.10.9"
  }
 },
 "nbformat": 4,
 "nbformat_minor": 5
}
