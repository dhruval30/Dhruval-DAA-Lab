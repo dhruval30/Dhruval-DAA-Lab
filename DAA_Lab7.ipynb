{
 "cells": [
  {
   "cell_type": "markdown",
   "id": "f9988d83",
   "metadata": {},
   "source": [
    "# Binary Search Tree Node Search"
   ]
  },
  {
   "cell_type": "code",
   "execution_count": 1,
   "id": "f6fb5494",
   "metadata": {},
   "outputs": [
    {
     "name": "stdout",
     "output_type": "stream",
     "text": [
      "Node with value 40 found in the BST.\n"
     ]
    }
   ],
   "source": [
    "class TreeNode:\n",
    "    def __init__(self, value):\n",
    "        self.value = value\n",
    "        self.left = None\n",
    "        self.right = None\n",
    "\n",
    "def search(root, key):\n",
    "    if not root:\n",
    "        return None\n",
    "\n",
    "    if root.value == key:\n",
    "        return root\n",
    "    elif root.value > key:\n",
    "        return search(root.left, key)\n",
    "    else:\n",
    "        return search(root.right, key)\n",
    "\n",
    "root = TreeNode(50)\n",
    "root.left = TreeNode(30)\n",
    "root.right = TreeNode(70)\n",
    "root.left.left = TreeNode(20)\n",
    "root.left.right = TreeNode(40)\n",
    "root.right.left = TreeNode(60)\n",
    "root.right.right = TreeNode(80)\n",
    "\n",
    "key = 40\n",
    "result = search(root, key)\n",
    "\n",
    "if result:\n",
    "    print(f\"Node with value {key} found in the BST.\")\n",
    "else:\n",
    "    print(f\"Node with value {key} not found in the BST.\")"
   ]
  },
  {
   "cell_type": "markdown",
   "id": "c7974b65",
   "metadata": {},
   "source": [
    "# Leaf Node Sum in a Tree"
   ]
  },
  {
   "cell_type": "code",
   "execution_count": 2,
   "id": "659525ba",
   "metadata": {},
   "outputs": [
    {
     "name": "stdout",
     "output_type": "stream",
     "text": [
      "Sum of leaf nodes in the tree: 26\n"
     ]
    }
   ],
   "source": [
    "class TreeNode:\n",
    "    def __init__(self, value):\n",
    "        self.value = value\n",
    "        self.left = None\n",
    "        self.right = None\n",
    "\n",
    "def leafNodeSum(root):\n",
    "    if not root:\n",
    "        return 0\n",
    "    \n",
    "    if not root.left and not root.right:\n",
    "        return root.value\n",
    "    \n",
    "    left_sum = leafNodeSum(root.left)\n",
    "    right_sum = leafNodeSum(root.right)\n",
    "    \n",
    "    return left_sum + right_sum\n",
    "\n",
    "root = TreeNode(1)\n",
    "root.left = TreeNode(2)\n",
    "root.right = TreeNode(3)\n",
    "root.left.left = TreeNode(4)\n",
    "root.left.right = TreeNode(5)\n",
    "root.right.left = TreeNode(6)\n",
    "root.right.right = TreeNode(7)\n",
    "root.left.left.left = TreeNode(8)\n",
    "\n",
    "sum_of_leaves = leafNodeSum(root)\n",
    "print(\"Sum of leaf nodes in the tree:\", sum_of_leaves)"
   ]
  },
  {
   "cell_type": "markdown",
   "id": "aff5b353",
   "metadata": {},
   "source": [
    "# Spinal (Zig-Zag) Order Tree Traversal\n",
    "The task involves printing the nodes of a binary tree in a spiral (zigzag) manner, alternating\n",
    "between left-to-right and right-to-left traversal at each level. This problem explores tree\n",
    "traversal techniques."
   ]
  },
  {
   "cell_type": "code",
   "execution_count": 3,
   "id": "b2851cde",
   "metadata": {},
   "outputs": [
    {
     "name": "stdout",
     "output_type": "stream",
     "text": [
      "Spiral order traversal of the tree: [1, 3, 2, 4, 5, 6, 7]\n"
     ]
    }
   ],
   "source": [
    "class TreeNode:\n",
    "    def __init__(self, value):\n",
    "        self.value = value\n",
    "        self.left = None\n",
    "        self.right = None\n",
    "\n",
    "def spiralOrderTraversal(root):\n",
    "    if not root:\n",
    "        return []\n",
    "\n",
    "    result, current_level, left_to_right = [], [root], True\n",
    "\n",
    "    while current_level:\n",
    "        values = [node.value for node in current_level]\n",
    "        if left_to_right:\n",
    "            result.extend(values)\n",
    "        else:\n",
    "            result.extend(values[::-1])\n",
    "\n",
    "        next_level = []\n",
    "        for node in current_level:\n",
    "            if node.left:\n",
    "                next_level.append(node.left)\n",
    "            if node.right:\n",
    "                next_level.append(node.right)\n",
    "\n",
    "        current_level = next_level\n",
    "        left_to_right = not left_to_right\n",
    "\n",
    "    return result\n",
    "\n",
    "root = TreeNode(1)\n",
    "root.left = TreeNode(2)\n",
    "root.right = TreeNode(3)\n",
    "root.left.left = TreeNode(4)\n",
    "root.left.right = TreeNode(5)\n",
    "root.right.left = TreeNode(6)\n",
    "root.right.right = TreeNode(7)\n",
    "\n",
    "spiral_order = spiralOrderTraversal(root)\n",
    "print(\"Spiral order traversal of the tree:\", spiral_order)"
   ]
  }
 ],
 "metadata": {
  "kernelspec": {
   "display_name": "Python 3 (ipykernel)",
   "language": "python",
   "name": "python3"
  },
  "language_info": {
   "codemirror_mode": {
    "name": "ipython",
    "version": 3
   },
   "file_extension": ".py",
   "mimetype": "text/x-python",
   "name": "python",
   "nbconvert_exporter": "python",
   "pygments_lexer": "ipython3",
   "version": "3.10.9"
  }
 },
 "nbformat": 4,
 "nbformat_minor": 5
}
